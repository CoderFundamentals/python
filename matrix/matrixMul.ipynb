{
 "cells": [
  {
   "cell_type": "code",
   "execution_count": 1,
   "metadata": {},
   "outputs": [],
   "source": [
    "import numpy as np"
   ]
  },
  {
   "cell_type": "markdown",
   "metadata": {},
   "source": [
    "#### Calculate the profitt/Loss for given data\n",
    " - Revenue\n",
    "|      | 2018| 2019|2020\n",
    "| -----| --- | --- |--- |\n",
    "|Iphone| 180 | 200 |220 |\n",
    "|Ipad  | 24  | 36  | 40 |\n",
    "|Mac   | 12  | 18  | 20 |\n",
    "\n",
    "- Expenses\n",
    "\n",
    "\n",
    "|      | 2018| 2019|2020\n",
    "| -----| --- | --- |--- |\n",
    "|Iphone| 80  | 90  |100 |\n",
    "|Ipad  | 10  | 16  | 20 |\n",
    "|Mac   | 8   | 10  | 20 |\n"
   ]
  },
  {
   "cell_type": "code",
   "execution_count": 2,
   "metadata": {},
   "outputs": [],
   "source": [
    "### Represent the revenue and expenses as numpy array\n",
    "revenue = np.array([[180,200,220],[24,36,40],[12,18,20]])\n",
    "expense = np.array([[80,90,100],[10,16,20],[8,10,20]])"
   ]
  },
  {
   "cell_type": "code",
   "execution_count": 3,
   "metadata": {},
   "outputs": [
    {
     "data": {
      "text/plain": [
       "array([[100, 110, 120],\n",
       "       [ 14,  20,  20],\n",
       "       [  4,   8,   0]])"
      ]
     },
     "execution_count": 3,
     "metadata": {},
     "output_type": "execute_result"
    }
   ],
   "source": [
    "profit = revenue - expense\n",
    "profit"
   ]
  },
  {
   "cell_type": "markdown",
   "metadata": {},
   "source": [
    "#### Calculate total sales from units and price per unit using matrix multiplication\n",
    "- Price\n",
    "|      | Iphone| Ipad|Mac|\n",
    "| -----| --- | --- |--- |\n",
    "|price per unit| 1000 | 400 |1200 |\n",
    "\n",
    "- Total Unit\n",
    "\n",
    "|      | 2018| 2019|2020\n",
    "| -----| --- | --- |--- |\n",
    "|Iphone| 30  | 40  |50 |\n",
    "|Ipad  | 5  | 10  | 15 |\n",
    "|Mac   | 2   | 5  | 7 |\n",
    "\n",
    "- This requires a dot product, which means row*column multiplication to calculate the total sales per year"
   ]
  },
  {
   "cell_type": "code",
   "execution_count": 4,
   "metadata": {},
   "outputs": [],
   "source": [
    "price = np.array([1000,400,1200])\n",
    "total_unit = np.array([[30,40,50],[5,10,15],[2,5,7]])"
   ]
  },
  {
   "cell_type": "code",
   "execution_count": 5,
   "metadata": {},
   "outputs": [],
   "source": [
    "total_sales = np.dot(price,total_unit)"
   ]
  },
  {
   "cell_type": "code",
   "execution_count": 6,
   "metadata": {},
   "outputs": [
    {
     "data": {
      "text/plain": [
       "array([34400, 50000, 64400])"
      ]
     },
     "execution_count": 6,
     "metadata": {},
     "output_type": "execute_result"
    }
   ],
   "source": [
    "total_sales"
   ]
  },
  {
   "cell_type": "markdown",
   "metadata": {},
   "source": [
    "#### Exercise: Matrix Math\n",
    "1. Below is some indian companies revenues in US dollars. Using numpy can you convert this into Indian rupees? 1 USD = 75 INR\n",
    "\n",
    "![](revenue_usd.jpeg)"
   ]
  },
  {
   "cell_type": "code",
   "execution_count": 14,
   "metadata": {},
   "outputs": [
    {
     "data": {
      "text/plain": [
       "array([[15000, 16500, 18750],\n",
       "       [ 5100,  5925,  7875],\n",
       "       [ 8250, 10500, 13500],\n",
       "       [ 6000,  6375,  6750]])"
      ]
     },
     "execution_count": 14,
     "metadata": {},
     "output_type": "execute_result"
    }
   ],
   "source": [
    "revenue_usd = np.array([[200,220,250],[68,79,105],[110,140,180],[80,85,90]])\n",
    "USD = 75\n",
    "Revenue_INR = np.multiply(revenue_usd,USD)\n",
    "Revenue_INR"
   ]
  },
  {
   "cell_type": "markdown",
   "metadata": {},
   "source": [
    "\n",
    "2. Divine flowers is a flower shop that sells different type of flowers. Below is the table showing how many flowers of each type they sold in different months. Also given are the prices of one flower each. Using this find out their total sales in every month.\n",
    "\n",
    "![](flowers.jpeg)"
   ]
  },
  {
   "cell_type": "code",
   "execution_count": 15,
   "metadata": {},
   "outputs": [
    {
     "data": {
      "text/plain": [
       "array([1900, 2640, 1430])"
      ]
     },
     "execution_count": 15,
     "metadata": {},
     "output_type": "execute_result"
    }
   ],
   "source": [
    "flower_sale = np.array([[50,60,25],[10,13,5],[40,70,52]])\n",
    "price_flower = np.array([20,30,15])\n",
    "total_sales = np.dot(price_flower,flower_sale)\n",
    "total_sales"
   ]
  },
  {
   "cell_type": "markdown",
   "metadata": {},
   "source": [
    "3. Here is some matrix exercise from mathisfun.com. Please click on a link below and do the exercise.\n",
    "\n",
    "[Click me for matrix exercise](https://www.mathopolis.com/questions/q.html?id=714&t=mif&qs=714_715_716_717_2394_2395_2397_2396_8473_8474_8475_8476&site=1&ref=2f616c67656272612f6d61747269782d6d756c7469706c79696e672e68746d6c&title=486f7720746f204d756c7469706c79204d61747269636573)\n"
   ]
  },
  {
   "cell_type": "code",
   "execution_count": null,
   "metadata": {},
   "outputs": [],
   "source": []
  }
 ],
 "metadata": {
  "kernelspec": {
   "display_name": "Python 3",
   "language": "python",
   "name": "python3"
  },
  "language_info": {
   "codemirror_mode": {
    "name": "ipython",
    "version": 3
   },
   "file_extension": ".py",
   "mimetype": "text/x-python",
   "name": "python",
   "nbconvert_exporter": "python",
   "pygments_lexer": "ipython3",
   "version": "3.8.5"
  }
 },
 "nbformat": 4,
 "nbformat_minor": 4
}
